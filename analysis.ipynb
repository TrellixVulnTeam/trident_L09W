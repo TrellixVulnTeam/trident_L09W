{
 "cells": [
  {
   "cell_type": "code",
   "execution_count": null,
   "metadata": {
    "ExecuteTime": {
     "end_time": "2021-11-29T11:30:18.918409Z",
     "start_time": "2021-11-29T11:30:08.472901Z"
    }
   },
   "outputs": [],
   "source": [
    "import pandas as pd\n",
    "import numpy as np\n",
    "import torch\n",
    "from umap import UMAP\n",
    "import plotly_express as px\n",
    "import plotly.graph_objects as go"
   ]
  },
  {
   "cell_type": "code",
   "execution_count": null,
   "metadata": {
    "ExecuteTime": {
     "end_time": "2021-11-29T11:30:18.930964Z",
     "start_time": "2021-11-29T11:30:18.919923Z"
    }
   },
   "outputs": [],
   "source": [
    "def plot_summarize(dfs, columns, meta_batch_size, batch_size):\n",
    "    dfs[0] = dfs[0].groupby(np.arange(len(dfs[0])) // meta_batch_size).mean()\n",
    "    \n",
    "    dfs[1].columns = list(dfs[1].columns[1:]) + ['model_name']\n",
    "    valid = dfs[1].groupby('model_name', as_index=False)[dfs[1].columns].mean()\n",
    "    valid['iter'] = valid['model_name'].apply(\n",
    "        lambda x: int(x[x.index('_') + 1:-3]))\n",
    "    valid.sort_values(by=['iter'], inplace=True)\n",
    "    valid.drop(columns=['model_name'], inplace=True)\n",
    "    valid['accuracy'] = 100 * valid['accuracy'] \n",
    "\n",
    "    dfs[2].columns = list(dfs[2].columns[1:]) + ['model_name']\n",
    "    test = dfs[2].groupby('model_name', as_index=False)[dfs[2].columns].mean()\n",
    "    test['iter'] = test['model_name'].apply(\n",
    "        lambda x: int(x[x.index('_') + 1:-3]))\n",
    "    test['accuracy'] = 100 * test['accuracy']\n",
    "    test.drop(columns=['model_name'], inplace=True)\n",
    "    test.sort_values(by=['iter'], inplace=True)\n",
    "\n",
    "    # Summarizing best valid & test scores\n",
    "    ind = valid[valid['accuracy'] == valid['accuracy'].max()]['iter'].values[0]\n",
    "    t = dfs[1][dfs[1]['model_name'] == 'model_' + str(ind) + '.pt']\n",
    "    t['accuracy'] = 100 * t['accuracy']\n",
    "    print('Validation Metrics Stats of Best Model at {}-th Iteration'.format(ind))\n",
    "    display(t.describe())\n",
    "    t = dfs[2][dfs[2]['model_name'] == 'model_' + str(ind) + '.pt']\n",
    "    t['accuracy'] = 100 * t['accuracy']\n",
    "    print('Test Metrics Stats of Best Val-picked Model at {}-th Iteration'.format(ind))\n",
    "    display(t.describe())\n",
    "    \n",
    "    ind = test[test['accuracy'] == test['accuracy'].max()]['iter'].values[0]\n",
    "    t = dfs[2][dfs[2]['model_name'] == 'model_' + str(ind) + '.pt']\n",
    "    t['accuracy'] = 100 * t['accuracy']\n",
    "    print('Test Metrics Stats of Best Model at {}-th Iteration'.format(ind))\n",
    "    display(t.describe())\n",
    "\n",
    "    dfs[0].drop(columns=['task'], inplace=True)\n",
    "    dfs[0].reset_index(drop=True, inplace=True)\n",
    "    valid.reset_index(drop=True, inplace=True)\n",
    "    dfs[0].columns = [str(c)+'_train' for c in columns]\n",
    "    dfs[0]['accuracy_train'] = 100 * dfs[0]['accuracy_train']\n",
    "    dfs[0]['iter'] = dfs[0].index\n",
    "    \n",
    "    # Plotting\n",
    "    ctv = [str(c)+'_train' for c in columns]\n",
    "    fig = px.line(dfs[0], x=dfs[0].index, y=ctv)\n",
    "    # figure this test.columns format and how to name\n",
    "    fig.add_scatter(x=test['iter'], y=test['accuracy'], name='accuracy_test')\n",
    "    fig.add_scatter(x=valid['iter'], y=valid['accuracy'], name='accuracy_valid')\n",
    "    fig.show()\n",
    "\n",
    "    #return df, test"
   ]
  },
  {
   "cell_type": "code",
   "execution_count": null,
   "metadata": {
    "ExecuteTime": {
     "end_time": "2021-11-29T11:30:18.949738Z",
     "start_time": "2021-11-29T11:30:18.932656Z"
    }
   },
   "outputs": [],
   "source": [
    "def plot_summarize_old(dfs, columns, meta_batch_size):\n",
    "    dfs[0] = dfs[0].groupby(np.arange(len(dfs[0])) // meta_batch_size).mean()\n",
    "    dfs[0].reset_index(drop=True, inplace=True)\n",
    "    dfs[1].reset_index(drop=True, inplace=True)\n",
    "    df = pd.concat([dfs[0][columns], dfs[1][columns]], axis=1)\n",
    "    df.columns = [str(c)+'_train' for c in columns] + \\\n",
    "        [str(c)+'_valid' for c in columns]\n",
    "    df[['accuracy_train', 'accuracy_valid']] = 100 * \\\n",
    "        df[['accuracy_train', 'accuracy_valid']]\n",
    "    df['iter'] = df.index\n",
    "\n",
    "    dfs[2].columns = list(dfs[2].columns[1:]) + ['model_name']\n",
    "    test = dfs[2].groupby('model_name', as_index=False)[dfs[2].columns].mean()\n",
    "    test['iter'] = test['model_name'].apply(\n",
    "        lambda x: int(x[x.index('_') + 1:-3]))\n",
    "    test['accuracy'] = 100 * test['accuracy']\n",
    "    test.drop(columns=['model_name'], inplace=True)\n",
    "    test.sort_values(by=['iter'], inplace=True)\n",
    "\n",
    "    # Summarizing test scores\n",
    "    ind = test[test['accuracy'] == test['accuracy'].max()]['iter'].values[0]\n",
    "    t = dfs[2][dfs[2]['model_name'] == 'model_' + str(ind) + '.pt']\n",
    "    t['accuracy'] = 100 * t['accuracy']\n",
    "    print('Test Metrics Stats of Best Model at {}-th Iteration'.format(ind))\n",
    "    display(t.describe())\n",
    "\n",
    "    # Plotting\n",
    "    ctv = [str(c)+'_train' for c in columns] + \\\n",
    "        [str(c)+'_valid' for c in columns]\n",
    "    fig = px.line(df, x=df.index, y=ctv)\n",
    "    # figure this test.columns format and how to name\n",
    "    fig.add_scatter(x=test['iter'], y=test['accuracy'], name='accuracy_test')\n",
    "    fig.show()\n",
    "\n",
    "    return df, test"
   ]
  },
  {
   "cell_type": "code",
   "execution_count": null,
   "metadata": {
    "ExecuteTime": {
     "end_time": "2021-11-29T11:30:18.973062Z",
     "start_time": "2021-11-29T11:30:18.951743Z"
    }
   },
   "outputs": [],
   "source": [
    "def viz_images(experiment, epoch, mode):\n",
    "    images = torch.load(\n",
    "        '/home/anuj/Desktop/Work/TU_Delft/research/implement/learning_to_meta-learn/logs/DELPO_{}_5-way_5-shot_15-queries/{}/images_epoch-{}_{}.pt'.format(experiment[1], experiment[0], epoch, mode))\n",
    "    \n",
    "    fig1 = px.imshow(np.array(images['gt_examples'].permute(0,2,3,1))[::15], facet_col=0 ,facet_col_wrap=5)\n",
    "    fig2 = px.imshow(np.array(images['reconst_examples'].permute(0,2,3,1))[::15], facet_col=0 ,facet_col_wrap=5)\n",
    "\n",
    "    fig1.show()\n",
    "    fig2.show()"
   ]
  },
  {
   "cell_type": "code",
   "execution_count": null,
   "metadata": {
    "ExecuteTime": {
     "end_time": "2021-11-29T11:30:18.991259Z",
     "start_time": "2021-11-29T11:30:18.975115Z"
    }
   },
   "outputs": [],
   "source": [
    "def viz_latents(experiment, epoch, mode):\n",
    "\n",
    "    #Only visualizing the image-latent-gaussian distribution mu's\n",
    "    latents = torch.load(\n",
    "        '/home/anuj/Desktop/Work/TU_Delft/research/implement/learning_to_meta-learn/logs/DELPO_{}_5-way_5-shot_15-queries/{}/latents_epoch-{}_{}.pt'.format(experiment[1], experiment[0], epoch, mode))\n",
    "    df = pd.DataFrame(np.array(latents['label_latents'][0]))\n",
    "    df['class'] = pd.Series(list(np.full((15,), 0)) + list(np.full((15,), 1)) + list(\n",
    "        np.full((15,), 2)) + list(np.full((15,), 3)) + list(np.full((15,), 4)))\n",
    "    features = df.iloc[:, :-1]\n",
    "\n",
    "    umap = UMAP(n_components=3, init='random', random_state=0)\n",
    "\n",
    "    proj_2d = umap.fit_transform(features)\n",
    "\n",
    "    fig_3d = px.scatter_3d(\n",
    "        proj_2d, x=0, y=1, z=2,\n",
    "        color=df['class'], labels={'color': 'class'}\n",
    "    )\n",
    "    fig_3d.show()\n"
   ]
  },
  {
   "cell_type": "markdown",
   "metadata": {},
   "source": [
    "# MiniImagenet: 5-way, 1-shot, 15-queries "
   ]
  },
  {
   "cell_type": "markdown",
   "metadata": {},
   "source": [
    "## Experiment-1: "
   ]
  },
  {
   "cell_type": "code",
   "execution_count": null,
   "metadata": {
    "ExecuteTime": {
     "end_time": "2021-11-08T13:15:54.406917Z",
     "start_time": "2021-11-08T13:15:53.724421Z"
    }
   },
   "outputs": [],
   "source": [
    "df_train = pd.read_csv('./logs/DELPO_miniimagenet_5-way_1-shot_15-queries/exp1/train.csv')\n",
    "df_valid = pd.read_csv('./logs/DELPO_miniimagenet_5-way_1-shot_15-queries/exp1/valid.csv')\n",
    "df_test = pd.read_csv('./logs/DELPO_miniimagenet_5-way_1-shot_15-queries/exp1/test_all.csv')\n",
    "df_test = df_test[~(df_test['CE_Loss'] == 'model_last.pt')]"
   ]
  },
  {
   "cell_type": "code",
   "execution_count": null,
   "metadata": {
    "ExecuteTime": {
     "end_time": "2021-11-08T13:15:59.703049Z",
     "start_time": "2021-11-08T13:15:55.611787Z"
    },
    "scrolled": false
   },
   "outputs": [],
   "source": [
    "df, test = plot_summarize([df_train, df_valid, df_test], ['accuracy', 'ELBO', 'Label_KL', 'Style_KL', 'Reconst_Loss', 'CE_Loss'], 20)"
   ]
  },
  {
   "cell_type": "markdown",
   "metadata": {},
   "source": [
    "## Experiment-2: "
   ]
  },
  {
   "cell_type": "code",
   "execution_count": null,
   "metadata": {
    "ExecuteTime": {
     "end_time": "2021-11-07T14:43:53.075008Z",
     "start_time": "2021-11-07T14:43:52.493221Z"
    }
   },
   "outputs": [],
   "source": [
    "df_train = pd.read_csv('./logs/DELPO_miniimagenet_5-way_1-shot_15-queries/exp2/train.csv')\n",
    "df_valid = pd.read_csv('./logs/DELPO_miniimagenet_5-way_1-shot_15-queries/exp2/valid.csv')\n",
    "df_test = pd.read_csv('./logs/DELPO_miniimagenet_5-way_1-shot_15-queries/exp2/test_all.csv')\n",
    "df_test = df_test[~(df_test['CE_Loss'] == 'model_last.pt')]"
   ]
  },
  {
   "cell_type": "code",
   "execution_count": null,
   "metadata": {
    "ExecuteTime": {
     "end_time": "2021-11-07T14:43:56.709894Z",
     "start_time": "2021-11-07T14:43:53.553713Z"
    },
    "scrolled": false
   },
   "outputs": [],
   "source": [
    "df, test = plot_summarize([df_train, df_valid, df_test], ['accuracy', 'ELBO', 'Label_KL', 'Style_KL', 'Reconst_Loss', 'CE_Loss'], 20)"
   ]
  },
  {
   "cell_type": "markdown",
   "metadata": {},
   "source": [
    "1 inner step doesn't do the job, accuracies saturate at 47%"
   ]
  },
  {
   "cell_type": "markdown",
   "metadata": {},
   "source": [
    "## Experiment-1-TAD: "
   ]
  },
  {
   "cell_type": "code",
   "execution_count": null,
   "metadata": {
    "ExecuteTime": {
     "end_time": "2021-11-29T11:30:49.458939Z",
     "start_time": "2021-11-29T11:30:44.292252Z"
    }
   },
   "outputs": [],
   "source": [
    "df_train = pd.read_csv('/media/anuj/New Volume/Win_BKP/TU_Delft/research/implement/learning_to_meta-learn/logs/DELPO_miniimagenet_5-way_1-shot_15-queries/exp1-eaen/train.csv')\n",
    "df_valid = pd.read_csv('/media/anuj/New Volume/Win_BKP/TU_Delft/research/implement/learning_to_meta-learn/logs/DELPO_miniimagenet_5-way_1-shot_15-queries/exp1-eaen/valid_all.csv')\n",
    "df_test = pd.read_csv('/media/anuj/New Volume/Win_BKP/TU_Delft/research/implement/learning_to_meta-learn/logs/DELPO_miniimagenet_5-way_1-shot_15-queries/exp1-eaen/test_all.csv')\n",
    "df_test = df_test[~(df_test['CE_Loss'] == 'model_last.pt')]\n",
    "df_valid = df_valid[~(df_valid['CE_Loss'] == 'model_last.pt')]"
   ]
  },
  {
   "cell_type": "code",
   "execution_count": null,
   "metadata": {
    "ExecuteTime": {
     "end_time": "2021-11-29T11:30:54.323911Z",
     "start_time": "2021-11-29T11:30:50.441365Z"
    },
    "scrolled": false
   },
   "outputs": [],
   "source": [
    "plot_summarize([df_train, df_valid, df_test], ['accuracy', 'ELBO', 'Label_KL', 'Style_KL', 'Reconst_Loss', 'CE_Loss'], 20, 500)"
   ]
  },
  {
   "cell_type": "code",
   "execution_count": null,
   "metadata": {
    "ExecuteTime": {
     "end_time": "2021-11-25T13:27:14.901317Z",
     "start_time": "2021-11-25T13:27:10.164786Z"
    }
   },
   "outputs": [],
   "source": [
    "df_train = pd.read_csv('./logs/DELPO_miniimagenet_5-way_1-shot_15-queries/exp1-eaen_run2/train.csv')\n",
    "df_train = df_train.groupby(np.arange(len(df_train)) // 20).mean()\n",
    "\n",
    "df_train1 = pd.read_csv('./logs/DELPO_miniimagenet_5-way_1-shot_15-queries/train1.csv')\n",
    "df_train1 = df_train1.groupby(np.arange(len(df_train1)) // 20).mean()\n",
    "\n",
    "df_train = pd.concat([df_train, df_train1], axis=1)\n",
    "df_train = df_train['accuracy']\n",
    "df_train.columns = ['acc1', 'acc2']\n",
    "#df_train.dropna(inplace=True)\n",
    "\n",
    "fig = px.line(df_train)\n",
    "fig.show()"
   ]
  },
  {
   "cell_type": "markdown",
   "metadata": {},
   "source": [
    "**Seems good, let run till ~50k-epochs, then monitor again and test!**"
   ]
  },
  {
   "cell_type": "markdown",
   "metadata": {},
   "source": [
    "**Test now**"
   ]
  },
  {
   "cell_type": "markdown",
   "metadata": {},
   "source": [
    "# MiniImagenet: 5-way, 5-shot, 15-queries "
   ]
  },
  {
   "cell_type": "markdown",
   "metadata": {},
   "source": [
    "## Experiment-1:"
   ]
  },
  {
   "cell_type": "code",
   "execution_count": null,
   "metadata": {},
   "outputs": [],
   "source": [
    "df_train = pd.read_csv('./logs/DELPO_miniimagenet_5-way_5-shot_15-queries/exp1/train.csv')\n",
    "df_valid = pd.read_csv('./logs/DELPO_miniimagenet_5-way_5-shot_15-queries/exp1/valid.csv')\n",
    "df_test = pd.read_csv('./logs/DELPO_miniimagenet_5-way_5-shot_15-queries/exp1/test.csv')"
   ]
  },
  {
   "cell_type": "code",
   "execution_count": null,
   "metadata": {},
   "outputs": [],
   "source": [
    "plot_summarize([df_train, df_valid, df_test], ['accuracy', 'ELBO', 'Label_KL', 'Style_KL', 'Reconst_Loss', 'CE_Loss'], 10)"
   ]
  },
  {
   "cell_type": "markdown",
   "metadata": {},
   "source": [
    "## Experiment-3:"
   ]
  },
  {
   "cell_type": "code",
   "execution_count": null,
   "metadata": {},
   "outputs": [],
   "source": [
    "df_train = pd.read_csv('./logs/DELPO_miniimagenet_5-way_5-shot_15-queries/exp3/train.csv')\n",
    "df_valid = pd.read_csv('./logs/DELPO_miniimagenet_5-way_5-shot_15-queries/exp3/valid.csv')\n",
    "df_test = pd.read_csv('./logs/DELPO_miniimagenet_5-way_5-shot_15-queries/exp3/test.csv')"
   ]
  },
  {
   "cell_type": "code",
   "execution_count": null,
   "metadata": {},
   "outputs": [],
   "source": [
    "df = plot_summarize([df_train, df_valid, df_test], ['accuracy', 'ELBO', 'Label_KL', 'Style_KL', 'Reconst_Loss', 'CE_Loss'], 10)"
   ]
  },
  {
   "cell_type": "code",
   "execution_count": null,
   "metadata": {},
   "outputs": [],
   "source": []
  },
  {
   "cell_type": "markdown",
   "metadata": {},
   "source": [
    "## Experiment-4:"
   ]
  },
  {
   "cell_type": "code",
   "execution_count": null,
   "metadata": {},
   "outputs": [],
   "source": [
    "df_train = pd.read_csv('./logs/DELPO_miniimagenet_5-way_5-shot_15-queries/exp4/train.csv')\n",
    "df_valid = pd.read_csv('./logs/DELPO_miniimagenet_5-way_5-shot_15-queries/exp4/valid.csv')\n",
    "df_test = pd.read_csv('./logs/DELPO_miniimagenet_5-way_5-shot_15-queries/exp4/test.csv')"
   ]
  },
  {
   "cell_type": "code",
   "execution_count": null,
   "metadata": {},
   "outputs": [],
   "source": [
    "df = plot_summarize([df_train, df_valid, df_test], ['accuracy', 'ELBO', 'Label_KL', 'Style_KL', 'Reconst_Loss', 'CE_Loss'], 30)"
   ]
  },
  {
   "cell_type": "code",
   "execution_count": null,
   "metadata": {},
   "outputs": [],
   "source": []
  },
  {
   "cell_type": "markdown",
   "metadata": {},
   "source": [
    "## Experiment-5:"
   ]
  },
  {
   "cell_type": "code",
   "execution_count": null,
   "metadata": {},
   "outputs": [],
   "source": [
    "df_train = pd.read_csv('./logs/DELPO_miniimagenet_5-way_5-shot_15-queries/exp5/train.csv')\n",
    "df_valid = pd.read_csv('./logs/DELPO_miniimagenet_5-way_5-shot_15-queries/exp5/valid.csv')\n",
    "df_test = pd.read_csv('./logs/DELPO_miniimagenet_5-way_5-shot_15-queries/exp5/test.csv')"
   ]
  },
  {
   "cell_type": "code",
   "execution_count": null,
   "metadata": {},
   "outputs": [],
   "source": [
    "acc = 100 * np.array(df_test.accuracy)\n",
    "1.96 * acc.std()/(600**0.5)"
   ]
  },
  {
   "cell_type": "code",
   "execution_count": null,
   "metadata": {},
   "outputs": [],
   "source": [
    "df = plot_summarize([df_train, df_valid, df_test], ['accuracy', 'ELBO', 'Label_KL', 'Style_KL', 'Reconst_Loss', 'CE_Loss'], 20)"
   ]
  },
  {
   "cell_type": "code",
   "execution_count": null,
   "metadata": {},
   "outputs": [],
   "source": [
    "viz_images('exp5', 6000, 'train')"
   ]
  },
  {
   "cell_type": "code",
   "execution_count": null,
   "metadata": {},
   "outputs": [],
   "source": [
    "viz_latents('exp5', 6000, 'train')"
   ]
  },
  {
   "cell_type": "markdown",
   "metadata": {},
   "source": [
    "## Experiment-3 (W/O Reparametrization):"
   ]
  },
  {
   "cell_type": "code",
   "execution_count": null,
   "metadata": {},
   "outputs": [],
   "source": [
    "df_train = pd.read_csv('./logs/DELPO_miniimagenet_5-way_5-shot_15-queries/exp3r/train.csv')\n",
    "df_valid = pd.read_csv('./logs/DELPO_miniimagenet_5-way_5-shot_15-queries/exp3r/valid.csv')\n",
    "df_test = pd.read_csv('./logs/DELPO_miniimagenet_5-way_5-shot_15-queries/exp3r/test.csv')"
   ]
  },
  {
   "cell_type": "code",
   "execution_count": null,
   "metadata": {},
   "outputs": [],
   "source": [
    "df = plot_summarize([df_train, df_valid, df_test], ['accuracy', 'ELBO', 'Label_KL', 'Style_KL', 'Reconst_Loss', 'CE_Loss'], 10)"
   ]
  },
  {
   "cell_type": "code",
   "execution_count": null,
   "metadata": {},
   "outputs": [],
   "source": []
  },
  {
   "cell_type": "markdown",
   "metadata": {},
   "source": [
    "## Experiment-7: "
   ]
  },
  {
   "cell_type": "code",
   "execution_count": null,
   "metadata": {},
   "outputs": [],
   "source": [
    "df_train = pd.read_csv('./logs/DELPO_miniimagenet_5-way_5-shot_15-queries/exp7/train.csv')\n",
    "df_valid = pd.read_csv('./logs/DELPO_miniimagenet_5-way_5-shot_15-queries/exp7/valid.csv')\n",
    "df_test = pd.read_csv('./logs/DELPO_miniimagenet_5-way_5-shot_15-queries/exp7/test.csv')"
   ]
  },
  {
   "cell_type": "code",
   "execution_count": null,
   "metadata": {},
   "outputs": [],
   "source": [
    "acc = 100 * np.array(df_test.accuracy)\n",
    "1.96 * acc.std()/(600**0.5)"
   ]
  },
  {
   "cell_type": "code",
   "execution_count": null,
   "metadata": {},
   "outputs": [],
   "source": [
    "df = plot_summarize([df_train, df_valid, df_test], ['accuracy', 'ELBO', 'Label_KL', 'Style_KL', 'Reconst_Loss', 'CE_Loss'], 20)"
   ]
  },
  {
   "cell_type": "code",
   "execution_count": null,
   "metadata": {},
   "outputs": [],
   "source": [
    "viz_images('exp7', 6000, 'train')"
   ]
  },
  {
   "cell_type": "code",
   "execution_count": null,
   "metadata": {},
   "outputs": [],
   "source": [
    "viz_latents('exp7', 13000, 'train')"
   ]
  },
  {
   "cell_type": "markdown",
   "metadata": {},
   "source": [
    "## Experiment-8:"
   ]
  },
  {
   "cell_type": "code",
   "execution_count": null,
   "metadata": {
    "ExecuteTime": {
     "end_time": "2021-11-14T11:32:20.490078Z",
     "start_time": "2021-11-14T11:32:18.643483Z"
    }
   },
   "outputs": [],
   "source": [
    "df_train = pd.read_csv('/media/anuj/New Volume/Win_BKP/TU_Delft/research/implement/learning_to_meta-learn/logs/DELPO_miniimagenet_5-way_5-shot_15-queries/exp8/train.csv')\n",
    "df_valid = pd.read_csv('/media/anuj/New Volume/Win_BKP/TU_Delft/research/implement/learning_to_meta-learn/logs/DELPO_miniimagenet_5-way_5-shot_15-queries/exp8/valid.csv')\n",
    "df_test = pd.read_csv('/media/anuj/New Volume/Win_BKP/TU_Delft/research/implement/learning_to_meta-learn/logs/DELPO_miniimagenet_5-way_5-shot_15-queries/exp8/test_all.csv')\n",
    "\n",
    "df_test = df_test[~(df_test['CE_Loss'] == 'model_last.pt')]\n",
    "\n",
    "df_train1 = pd.read_csv('/media/anuj/New Volume/Win_BKP/TU_Delft/research/implement/learning_to_meta-learn/logs/DELPO_miniimagenet_5-way_5-shot_15-queries/exp8/train_45.csv')\n",
    "df_valid1 = pd.read_csv('/media/anuj/New Volume/Win_BKP/TU_Delft/research/implement/learning_to_meta-learn/logs/DELPO_miniimagenet_5-way_5-shot_15-queries/exp8/valid_45.csv')\n",
    "df_test1 = pd.read_csv('/media/anuj/New Volume/Win_BKP/TU_Delft/research/implement/learning_to_meta-learn/logs/DELPO_miniimagenet_5-way_5-shot_15-queries/exp8/test_all_45.csv')\n",
    "\n",
    "df_test1 = df_test1[~(df_test1['CE_Loss'] == 'model_last.pt')]\n",
    "\n",
    "df_train_all = pd.concat([df_train, df_train1])\n",
    "df_valid_all = pd.concat([df_valid, df_valid1])\n",
    "df_test_all = pd.concat([df_test, df_test1])"
   ]
  },
  {
   "cell_type": "code",
   "execution_count": null,
   "metadata": {
    "ExecuteTime": {
     "end_time": "2021-11-14T09:21:26.980070Z",
     "start_time": "2021-11-14T09:21:25.769442Z"
    }
   },
   "outputs": [],
   "source": [
    "df_train = pd.read_csv('./logs/DELPO_miniimagenet_5-way_5-shot_15-queries/exp8/train.csv')\n",
    "df_valid = pd.read_csv('./logs/DELPO_miniimagenet_5-way_5-shot_15-queries/exp8/valid.csv')\n",
    "df_test = pd.read_csv('./logs/DELPO_miniimagenet_5-way_5-shot_15-queries/exp8/test_all.csv')\n",
    "\n",
    "df_test = df_test[~(df_test['CE_Loss'] == 'model_last.pt')]\n",
    "\n",
    "df_train1 = pd.read_csv('./logs/DELPO_miniimagenet_5-way_5-shot_15-queries/exp8/train_45.csv')\n",
    "df_valid1 = pd.read_csv('./logs/DELPO_miniimagenet_5-way_5-shot_15-queries/exp8/valid_45.csv')\n",
    "df_test1 = pd.read_csv('./logs/DELPO_miniimagenet_5-way_5-shot_15-queries/exp8/test_all_45.csv')\n",
    "\n",
    "df_test1 = df_test1[~(df_test1['CE_Loss'] == 'model_last.pt')]\n",
    "\n",
    "df_train_all = pd.concat([df_train, df_train1])\n",
    "df_valid_all = pd.concat([df_valid, df_valid1])\n",
    "df_test_all = pd.concat([df_test, df_test1])"
   ]
  },
  {
   "cell_type": "code",
   "execution_count": null,
   "metadata": {
    "ExecuteTime": {
     "end_time": "2021-11-14T11:32:26.524295Z",
     "start_time": "2021-11-14T11:32:21.721809Z"
    }
   },
   "outputs": [],
   "source": [
    "df, test = plot_summarize_old(\n",
    "    [df_train_all, df_valid_all, df_test_all],\n",
    "    ['accuracy', 'ELBO', 'Label_KL', 'Style_KL', 'Reconst_Loss', 'CE_Loss'],\n",
    "    20)"
   ]
  },
  {
   "cell_type": "code",
   "execution_count": null,
   "metadata": {
    "ExecuteTime": {
     "end_time": "2021-11-03T16:40:52.522980Z",
     "start_time": "2021-11-03T16:40:52.328977Z"
    }
   },
   "outputs": [],
   "source": [
    "viz_images(['exp8', 'miniimagenet'], 41500, 'train')"
   ]
  },
  {
   "cell_type": "code",
   "execution_count": null,
   "metadata": {
    "ExecuteTime": {
     "end_time": "2021-11-03T16:41:08.022815Z",
     "start_time": "2021-11-03T16:41:07.312473Z"
    }
   },
   "outputs": [],
   "source": [
    "viz_latents(['exp8', 'miniimagenet'], 41500, 'train')"
   ]
  },
  {
   "cell_type": "markdown",
   "metadata": {},
   "source": [
    "### Experiment-8-arch-ablation: "
   ]
  },
  {
   "cell_type": "markdown",
   "metadata": {},
   "source": [
    "added a layer before extracting mu, sigma for latent distribution, thus now: 1000 -- 256 -- 64 "
   ]
  },
  {
   "cell_type": "code",
   "execution_count": null,
   "metadata": {
    "ExecuteTime": {
     "end_time": "2021-11-04T11:44:05.873875Z",
     "start_time": "2021-11-04T11:44:05.083169Z"
    }
   },
   "outputs": [],
   "source": [
    "df_train = pd.read_csv('./logs/DELPO_miniimagenet_5-way_5-shot_15-queries/exp8-archab/train.csv')\n",
    "df_valid = pd.read_csv('./logs/DELPO_miniimagenet_5-way_5-shot_15-queries/exp8-archab/valid.csv')\n",
    "df_test = pd.read_csv('./logs/DELPO_miniimagenet_5-way_5-shot_15-queries/exp8-archab/test_all.csv')\n",
    "df_test = df_test[~(df_test['CE_Loss'] == 'model_last.pt')]"
   ]
  },
  {
   "cell_type": "code",
   "execution_count": null,
   "metadata": {
    "ExecuteTime": {
     "end_time": "2021-11-04T11:44:34.985573Z",
     "start_time": "2021-11-04T11:44:31.689216Z"
    }
   },
   "outputs": [],
   "source": [
    "df, test = plot_summarize(\n",
    "    [df_train, df_valid, df_test],\n",
    "    ['accuracy', 'ELBO', 'Label_KL', 'Style_KL', 'Reconst_Loss', 'CE_Loss'],\n",
    "    20)"
   ]
  },
  {
   "cell_type": "markdown",
   "metadata": {},
   "source": [
    "## Experiment-8-TAD (10 queries): "
   ]
  },
  {
   "cell_type": "markdown",
   "metadata": {},
   "source": [
    "### EAEN "
   ]
  },
  {
   "cell_type": "code",
   "execution_count": null,
   "metadata": {
    "ExecuteTime": {
     "end_time": "2021-11-29T11:31:56.564085Z",
     "start_time": "2021-11-29T11:31:52.711251Z"
    }
   },
   "outputs": [],
   "source": [
    "df_train = pd.read_csv('/media/anuj/New Volume/Win_BKP/TU_Delft/research/implement/learning_to_meta-learn/logs/DELPO_miniimagenet_5-way_5-shot_10-queries/exp8-eaen/train.csv')\n",
    "df_valid = pd.read_csv('/media/anuj/New Volume/Win_BKP/TU_Delft/research/implement/learning_to_meta-learn/logs/DELPO_miniimagenet_5-way_5-shot_10-queries/exp8-eaen/valid_all.csv')\n",
    "df_test = pd.read_csv('/media/anuj/New Volume/Win_BKP/TU_Delft/research/implement/learning_to_meta-learn/logs/DELPO_miniimagenet_5-way_5-shot_10-queries/exp8-eaen/test_all.csv')\n",
    "df_test = df_test[~(df_test['CE_Loss'] == 'model_last.pt')]"
   ]
  },
  {
   "cell_type": "code",
   "execution_count": null,
   "metadata": {
    "ExecuteTime": {
     "end_time": "2021-11-29T11:31:59.653222Z",
     "start_time": "2021-11-29T11:31:57.120604Z"
    },
    "scrolled": false
   },
   "outputs": [],
   "source": [
    "plot_summarize(\n",
    "    [df_train, df_valid, df_test],\n",
    "    ['accuracy', 'ELBO', 'Label_KL', 'Style_KL', 'Reconst_Loss', 'CE_Loss'],\n",
    "    20, 500)"
   ]
  },
  {
   "cell_type": "code",
   "execution_count": null,
   "metadata": {
    "ExecuteTime": {
     "end_time": "2021-11-25T13:28:38.976631Z",
     "start_time": "2021-11-25T13:28:36.129362Z"
    }
   },
   "outputs": [],
   "source": [
    "df_train = pd.read_csv('./logs/DELPO_miniimagenet_5-way_5-shot_10-queries/exp8-eaen_run1/train.csv')\n",
    "df_train = df_train.groupby(np.arange(len(df_train)) // 20).mean()\n",
    "df_train1 = pd.read_csv('./logs/DELPO_miniimagenet_5-way_5-shot_10-queries/train8.csv')\n",
    "df_train1 = df_train1.groupby(np.arange(len(df_train1)) // 20).mean()\n",
    "\n",
    "df_train = pd.concat([df_train, df_train1], axis=1)\n",
    "df_train = df_train['accuracy']\n",
    "df_train.columns = ['acc1', 'acc2']\n",
    "#df_train.dropna(inplace=True)\n",
    "\n",
    "fig = px.line(df_train)\n",
    "fig.show()"
   ]
  },
  {
   "cell_type": "markdown",
   "metadata": {},
   "source": [
    "**Yo wow, WTF?!?! - let run till ~35k-epochs. Test now!**"
   ]
  },
  {
   "cell_type": "code",
   "execution_count": null,
   "metadata": {
    "ExecuteTime": {
     "end_time": "2021-11-21T11:13:47.470136Z",
     "start_time": "2021-11-21T11:13:47.314430Z"
    }
   },
   "outputs": [],
   "source": [
    "df_test = pd.read_csv('./logs/DELPO_miniimagenet_5-way_5-shot_10-queries/exp8-eaen/test_all.csv')\n",
    "df_test1 = pd.read_csv('./logs/DELPO_miniimagenet_5-way_5-shot_10-queries/exp8-eaen_old/test_all.csv')\n",
    "\n",
    "df_test.columns = list(df_test.columns[1:]) + ['model_name']\n",
    "df_test = df_test.groupby('model_name', as_index=False)[df_test.columns].mean()\n",
    "df_test['iter'] = df_test['model_name'].apply(\n",
    "    lambda x: int(x[x.index('_') + 1:-3]))\n",
    "df_test.sort_values(by=['iter'], inplace=True)\n",
    "\n",
    "df_test1.columns = list(df_test1.columns[1:]) + ['model_name']\n",
    "df_test1 = df_test1.groupby('model_name', as_index=False)[df_test1.columns].mean()\n",
    "df_test1['iter'] = df_test1['model_name'].apply(\n",
    "    lambda x: int(x[x.index('_') + 1:-3]))\n",
    "df_test1.sort_values(by=['iter'], inplace=True)\n",
    "df_test = pd.concat([df_test, df_test1], axis=1)\n",
    "df_test = df_test[['accuracy', 'iter']]\n",
    "df_test.columns = ['acc1', 'acc2', 'iter1', 'iter2']\n",
    "df_test.sort_values(by=['iter1'], inplace=True)\n",
    "#df_train.dropna(inplace=True)\n"
   ]
  },
  {
   "cell_type": "code",
   "execution_count": null,
   "metadata": {
    "ExecuteTime": {
     "end_time": "2021-11-21T11:14:13.134066Z",
     "start_time": "2021-11-21T11:14:13.057772Z"
    }
   },
   "outputs": [],
   "source": [
    "fig = px.line(df_test, x='iter1', y=['acc1', 'acc2'])\n",
    "fig.show()"
   ]
  },
  {
   "cell_type": "markdown",
   "metadata": {},
   "source": [
    "### 5-way 5-shot 15-queries EAEN: "
   ]
  },
  {
   "cell_type": "code",
   "execution_count": null,
   "metadata": {
    "ExecuteTime": {
     "end_time": "2021-11-21T11:00:54.946733Z",
     "start_time": "2021-11-21T11:00:53.760414Z"
    }
   },
   "outputs": [],
   "source": [
    "df_train = pd.read_csv('./logs/DELPO_miniimagenet_5-way_5-shot_10-queries/exp8-eaen/train.csv')\n",
    "df_valid = pd.read_csv('./logs/DELPO_miniimagenet_5-way_5-shot_10-queries/exp8-eaen/valid_all.csv')\n",
    "df_test = pd.read_csv('./logs/DELPO_miniimagenet_5-way_5-shot_10-queries/exp8-eaen/test_all.csv')\n",
    "df_test = df_test[~(df_test['CE_Loss'] == 'model_last.pt')]"
   ]
  },
  {
   "cell_type": "code",
   "execution_count": null,
   "metadata": {
    "ExecuteTime": {
     "end_time": "2021-11-21T11:00:57.486947Z",
     "start_time": "2021-11-21T11:00:54.948208Z"
    },
    "scrolled": false
   },
   "outputs": [],
   "source": [
    "plot_summarize(\n",
    "    [df_train, df_valid, df_test],\n",
    "    ['accuracy', 'ELBO', 'Label_KL', 'Style_KL', 'Reconst_Loss', 'CE_Loss'],\n",
    "    20, 500)"
   ]
  },
  {
   "cell_type": "code",
   "execution_count": null,
   "metadata": {
    "ExecuteTime": {
     "end_time": "2021-11-25T14:16:23.738814Z",
     "start_time": "2021-11-25T14:16:21.974215Z"
    }
   },
   "outputs": [],
   "source": [
    "df_train = pd.read_csv('./logs/DELPO_miniimagenet_5-way_5-shot_10-queries/exp8-eaen_run1/train.csv')\n",
    "df_train = df_train.groupby(np.arange(len(df_train)) // 20).mean()\n",
    "df_train1 = pd.read_csv('./logs/DELPO_miniimagenet_5-way_5-shot_15-queries/train8.csv')\n",
    "df_train1 = df_train1.groupby(np.arange(len(df_train1)) // 20).mean()\n",
    "\n",
    "df_train = pd.concat([df_train, df_train1], axis=1)\n",
    "df_train = df_train['accuracy']\n",
    "df_train.columns = ['acc1', 'acc2']\n",
    "#df_train.dropna(inplace=True)\n",
    "\n",
    "fig = px.line(df_train)\n",
    "fig.show()"
   ]
  },
  {
   "cell_type": "markdown",
   "metadata": {},
   "source": [
    "**No significant gains, YET -- wait, monitor again at ~25k-epochs. Test tomorrow**"
   ]
  },
  {
   "cell_type": "code",
   "execution_count": null,
   "metadata": {},
   "outputs": [],
   "source": []
  },
  {
   "cell_type": "markdown",
   "metadata": {},
   "source": [
    "## Experiment-8-lr-ablations:"
   ]
  },
  {
   "cell_type": "markdown",
   "metadata": {},
   "source": [
    "a ; b ; d :: 0.003,0.0003 ; 0.006,0.0006 ; 0.01,0.001   ---- (inner lr, meta-lr) "
   ]
  },
  {
   "cell_type": "code",
   "execution_count": null,
   "metadata": {
    "ExecuteTime": {
     "end_time": "2021-10-25T21:29:09.532837Z",
     "start_time": "2021-10-25T21:29:09.451092Z"
    }
   },
   "outputs": [],
   "source": [
    "test = pd.read_csv('./logs/DELPO_miniimagenet_5-way_5-shot_15-queries/exp8c/test.csv')\n",
    "df_testa = pd.read_csv('./logs/DELPO_miniimagenet_5-way_5-shot_15-queries/exp8c/exp8ca/test.csv')\n",
    "df_testb = pd.read_csv('./logs/DELPO_miniimagenet_5-way_5-shot_15-queries/exp8c/exp8cb/test.csv')\n",
    "df_testd = pd.read_csv('./logs/DELPO_miniimagenet_5-way_5-shot_15-queries/exp8c/exp8cd/test.csv')"
   ]
  },
  {
   "cell_type": "code",
   "execution_count": null,
   "metadata": {
    "ExecuteTime": {
     "end_time": "2021-10-25T21:03:31.928910Z",
     "start_time": "2021-10-25T21:03:31.903616Z"
    }
   },
   "outputs": [],
   "source": [
    "df_testa.columns = list(df_testa.columns[1:]) + ['model_name']\n",
    "a = df_testa.groupby('model_name', as_index=False).mean()\n",
    "a['iter'] = a['model_name'].apply(lambda x: int(x[x.index('_')+1 : -3]))\n",
    "a"
   ]
  },
  {
   "cell_type": "code",
   "execution_count": null,
   "metadata": {
    "ExecuteTime": {
     "end_time": "2021-10-25T20:43:16.177630Z",
     "start_time": "2021-10-25T20:43:16.160006Z"
    }
   },
   "outputs": [],
   "source": [
    "df_testb.columns = list(df_testb.columns[1:]) + ['model_name']\n",
    "df_testb.groupby('model_name', as_index=False)['accuracy'].mean()"
   ]
  },
  {
   "cell_type": "code",
   "execution_count": null,
   "metadata": {
    "ExecuteTime": {
     "end_time": "2021-10-25T20:43:16.539580Z",
     "start_time": "2021-10-25T20:43:16.523062Z"
    }
   },
   "outputs": [],
   "source": [
    "df_testd.columns = list(df_testd.columns[1:]) + ['model_name']\n",
    "df_testd.groupby('model_name', as_index=False)['accuracy'].mean()"
   ]
  },
  {
   "cell_type": "code",
   "execution_count": null,
   "metadata": {
    "ExecuteTime": {
     "end_time": "2021-10-25T21:29:12.834677Z",
     "start_time": "2021-10-25T21:29:12.803621Z"
    }
   },
   "outputs": [],
   "source": [
    "test.columns = list(test.columns[1:]) + ['model_name']\n",
    "test = test.groupby('model_name', as_index=False).mean()\n",
    "test['iter'] = test['model_name'].apply(lambda x: int(x[x.index('_')+1 : -3]))\n",
    "test.drop(columns=['model_name'], inplace=True)\n",
    "test"
   ]
  },
  {
   "cell_type": "markdown",
   "metadata": {},
   "source": [
    "# MiniImagenet: 5-way, 10-shot, 15-queries "
   ]
  },
  {
   "cell_type": "markdown",
   "metadata": {},
   "source": [
    "## Exp1: EAEN "
   ]
  },
  {
   "cell_type": "code",
   "execution_count": null,
   "metadata": {
    "ExecuteTime": {
     "end_time": "2021-11-29T11:32:31.358024Z",
     "start_time": "2021-11-29T11:32:27.551406Z"
    },
    "scrolled": false
   },
   "outputs": [],
   "source": [
    "df_train = pd.read_csv('/media/anuj/New Volume/Win_BKP/TU_Delft/research/implement/learning_to_meta-learn/logs/DELPO_miniimagenet_5-way_10-shot_15-queries/exp1-eaen/train.csv')\n",
    "df_valid = pd.read_csv('/media/anuj/New Volume/Win_BKP/TU_Delft/research/implement/learning_to_meta-learn/logs/DELPO_miniimagenet_5-way_10-shot_15-queries/exp1-eaen_firsthalf/valid_all.csv')\n",
    "df_test = pd.read_csv('/media/anuj/New Volume/Win_BKP/TU_Delft/research/implement/learning_to_meta-learn/logs/DELPO_miniimagenet_5-way_10-shot_15-queries/exp1-eaen_firsthalf/test_all.csv')\n",
    "df_test = df_test[~(df_test['CE_Loss'] == 'model_last.pt')]\n",
    "\n",
    "plot_summarize(\n",
    "    [df_train, df_valid, df_test],\n",
    "    ['accuracy', 'ELBO', 'Label_KL', 'Style_KL', 'Reconst_Loss', 'CE_Loss'],\n",
    "    20, 500)"
   ]
  },
  {
   "cell_type": "code",
   "execution_count": null,
   "metadata": {
    "ExecuteTime": {
     "end_time": "2021-11-25T14:15:41.439928Z",
     "start_time": "2021-11-25T14:15:40.924539Z"
    }
   },
   "outputs": [],
   "source": [
    "df_train = pd.read_csv('./logs/DELPO_miniimagenet_5-way_10-shot_15-queries/train1.csv')\n",
    "df_train = df_train.groupby(np.arange(len(df_train)) // 20).mean()\n",
    "\n",
    "df_train = df_train['accuracy']\n",
    "df_train.columns = ['acc1']\n",
    "#df_train.dropna(inplace=True)\n",
    "\n",
    "fig = px.line(df_train)\n",
    "fig.show()"
   ]
  },
  {
   "cell_type": "markdown",
   "metadata": {},
   "source": [
    "**Seems good, check at 10-15k epochs**"
   ]
  },
  {
   "cell_type": "markdown",
   "metadata": {},
   "source": [
    "# Omniglot: 5-way, 5-shot, 15-queries"
   ]
  },
  {
   "cell_type": "markdown",
   "metadata": {},
   "source": [
    "## Experiment-1: "
   ]
  },
  {
   "cell_type": "code",
   "execution_count": null,
   "metadata": {
    "ExecuteTime": {
     "end_time": "2021-10-21T08:42:16.608265Z",
     "start_time": "2021-10-21T08:42:16.500111Z"
    }
   },
   "outputs": [],
   "source": [
    "df_train = pd.read_csv('./logs/DELPO_omniglot_5-way_5-shot_15-queries/exp1/train.csv')\n",
    "df_valid = pd.read_csv('./logs/DELPO_omniglot_5-way_5-shot_15-queries/exp1/valid.csv')\n",
    "df_test = pd.read_csv('./logs/DELPO_omniglot_5-way_5-shot_15-queries/exp1/test.csv')"
   ]
  },
  {
   "cell_type": "code",
   "execution_count": null,
   "metadata": {
    "ExecuteTime": {
     "end_time": "2021-10-21T08:42:21.510339Z",
     "start_time": "2021-10-21T08:42:21.494600Z"
    }
   },
   "outputs": [],
   "source": [
    "acc = 100 * np.array(df_test.accuracy)\n",
    "1.96 * acc.std()/(600**0.5)"
   ]
  },
  {
   "cell_type": "code",
   "execution_count": null,
   "metadata": {
    "ExecuteTime": {
     "end_time": "2021-10-21T08:42:23.175754Z",
     "start_time": "2021-10-21T08:42:22.604314Z"
    }
   },
   "outputs": [],
   "source": [
    "df = plot_summarize([df_train, df_valid, df_test], ['accuracy', 'ELBO', 'Label_KL', 'Style_KL', 'Reconst_Loss', 'CE_Loss'], 20)"
   ]
  },
  {
   "cell_type": "code",
   "execution_count": null,
   "metadata": {
    "ExecuteTime": {
     "end_time": "2021-10-18T11:36:03.875639Z",
     "start_time": "2021-10-18T11:36:03.706706Z"
    },
    "scrolled": true
   },
   "outputs": [],
   "source": [
    "viz_images(['exp4', 'omniglot'], 5000, 'train')"
   ]
  },
  {
   "cell_type": "code",
   "execution_count": null,
   "metadata": {},
   "outputs": [],
   "source": [
    "viz_latents('exp7', 13000, 'train')"
   ]
  },
  {
   "cell_type": "markdown",
   "metadata": {},
   "source": [
    "## Experiment-2: "
   ]
  },
  {
   "cell_type": "code",
   "execution_count": null,
   "metadata": {
    "ExecuteTime": {
     "end_time": "2021-10-21T08:43:01.387291Z",
     "start_time": "2021-10-21T08:43:01.321141Z"
    }
   },
   "outputs": [],
   "source": [
    "df_train = pd.read_csv('./logs/DELPO_omniglot_5-way_5-shot_15-queries/exp2/train.csv')\n",
    "df_valid = pd.read_csv('./logs/DELPO_omniglot_5-way_5-shot_15-queries/exp2/valid.csv')\n",
    "df_test = pd.read_csv('./logs/DELPO_omniglot_5-way_5-shot_15-queries/exp2/test.csv')"
   ]
  },
  {
   "cell_type": "code",
   "execution_count": null,
   "metadata": {
    "ExecuteTime": {
     "end_time": "2021-10-21T09:43:10.436248Z",
     "start_time": "2021-10-21T09:43:10.416066Z"
    }
   },
   "outputs": [],
   "source": [
    "df_train"
   ]
  },
  {
   "cell_type": "code",
   "execution_count": null,
   "metadata": {
    "ExecuteTime": {
     "end_time": "2021-10-21T08:43:02.027597Z",
     "start_time": "2021-10-21T08:43:01.999819Z"
    }
   },
   "outputs": [],
   "source": [
    "acc = 100 * np.array(df_test.accuracy)\n",
    "1.96 * acc.std()/(600**0.5)"
   ]
  },
  {
   "cell_type": "code",
   "execution_count": null,
   "metadata": {
    "ExecuteTime": {
     "end_time": "2021-10-21T08:43:11.536208Z",
     "start_time": "2021-10-21T08:43:11.067470Z"
    }
   },
   "outputs": [],
   "source": [
    "df = plot_summarize([df_train, df_valid, df_test], ['accuracy', 'ELBO', 'Label_KL', 'Style_KL', 'Reconst_Loss', 'CE_Loss'], 20)"
   ]
  },
  {
   "cell_type": "code",
   "execution_count": null,
   "metadata": {
    "ExecuteTime": {
     "end_time": "2021-10-18T11:36:03.875639Z",
     "start_time": "2021-10-18T11:36:03.706706Z"
    },
    "scrolled": true
   },
   "outputs": [],
   "source": [
    "viz_images(['exp4', 'omniglot'], 5000, 'train')"
   ]
  },
  {
   "cell_type": "code",
   "execution_count": null,
   "metadata": {},
   "outputs": [],
   "source": [
    "viz_latents('exp7', 13000, 'train')"
   ]
  },
  {
   "cell_type": "code",
   "execution_count": null,
   "metadata": {},
   "outputs": [],
   "source": []
  },
  {
   "cell_type": "markdown",
   "metadata": {},
   "source": [
    "## Experiment-3: "
   ]
  },
  {
   "cell_type": "code",
   "execution_count": null,
   "metadata": {
    "ExecuteTime": {
     "end_time": "2021-10-21T09:43:34.589708Z",
     "start_time": "2021-10-21T09:43:34.522404Z"
    }
   },
   "outputs": [],
   "source": [
    "df_train = pd.read_csv('./logs/DELPO_omniglot_5-way_5-shot_15-queries/exp3/train.csv')\n",
    "df_valid = pd.read_csv('./logs/DELPO_omniglot_5-way_5-shot_15-queries/exp3/valid.csv')\n",
    "df_test = pd.read_csv('./logs/DELPO_omniglot_5-way_5-shot_15-queries/exp3/test.csv')"
   ]
  },
  {
   "cell_type": "code",
   "execution_count": null,
   "metadata": {
    "ExecuteTime": {
     "end_time": "2021-10-21T09:43:35.523705Z",
     "start_time": "2021-10-21T09:43:35.504712Z"
    }
   },
   "outputs": [],
   "source": [
    "df_train"
   ]
  },
  {
   "cell_type": "code",
   "execution_count": null,
   "metadata": {
    "ExecuteTime": {
     "end_time": "2021-10-21T09:43:41.951675Z",
     "start_time": "2021-10-21T09:43:41.932816Z"
    }
   },
   "outputs": [],
   "source": [
    "acc = 100 * np.array(df_test.accuracy)\n",
    "1.96 * acc.std()/(600**0.5)"
   ]
  },
  {
   "cell_type": "code",
   "execution_count": null,
   "metadata": {
    "ExecuteTime": {
     "end_time": "2021-10-21T08:43:11.536208Z",
     "start_time": "2021-10-21T08:43:11.067470Z"
    }
   },
   "outputs": [],
   "source": [
    "df = plot_summarize([df_train, df_valid, df_test], ['accuracy', 'ELBO', 'Label_KL', 'Style_KL', 'Reconst_Loss', 'CE_Loss'], 20)"
   ]
  },
  {
   "cell_type": "code",
   "execution_count": null,
   "metadata": {
    "ExecuteTime": {
     "end_time": "2021-10-18T11:36:03.875639Z",
     "start_time": "2021-10-18T11:36:03.706706Z"
    },
    "scrolled": true
   },
   "outputs": [],
   "source": [
    "viz_images(['exp4', 'omniglot'], 5000, 'train')"
   ]
  },
  {
   "cell_type": "code",
   "execution_count": null,
   "metadata": {},
   "outputs": [],
   "source": [
    "viz_latents('exp7', 13000, 'train')"
   ]
  },
  {
   "cell_type": "markdown",
   "metadata": {},
   "source": [
    "## Experiment-4: "
   ]
  },
  {
   "cell_type": "code",
   "execution_count": null,
   "metadata": {
    "ExecuteTime": {
     "end_time": "2021-11-16T22:27:10.841696Z",
     "start_time": "2021-11-16T22:27:10.822552Z"
    }
   },
   "outputs": [],
   "source": [
    "df_test = pd.read_csv('./logs/DELPO_omniglot_5-way_5-shot_15-queries/exp4/exp4_5000+/test.csv')"
   ]
  },
  {
   "cell_type": "code",
   "execution_count": null,
   "metadata": {
    "ExecuteTime": {
     "end_time": "2021-11-16T22:28:43.013334Z",
     "start_time": "2021-11-16T22:28:42.978683Z"
    }
   },
   "outputs": [],
   "source": [
    "df_test[df_test['CE_Loss'] == 'model_last.pt'].describe()"
   ]
  },
  {
   "cell_type": "code",
   "execution_count": null,
   "metadata": {
    "ExecuteTime": {
     "end_time": "2021-11-16T20:07:20.867735Z",
     "start_time": "2021-11-16T20:07:20.552680Z"
    }
   },
   "outputs": [],
   "source": [
    "df_train = pd.read_csv('./logs/DELPO_omniglot_5-way_5-shot_15-queries/exp4/train.csv')\n",
    "df_valid = pd.read_csv('./logs/DELPO_omniglot_5-way_5-shot_15-queries/exp4/valid_all.csv')\n",
    "\n",
    "df_train1 = pd.read_csv('./logs/DELPO_omniglot_5-way_5-shot_15-queries/exp4/train1.csv')\n",
    "df_test = pd.read_csv('./logs/DELPO_omniglot_5-way_5-shot_15-queries/exp4/test_all.csv')\n",
    "\n",
    "df_train = pd.concat([df_train, df_train1])"
   ]
  },
  {
   "cell_type": "code",
   "execution_count": null,
   "metadata": {
    "ExecuteTime": {
     "end_time": "2021-11-16T20:07:23.953832Z",
     "start_time": "2021-11-16T20:07:22.603227Z"
    },
    "scrolled": false
   },
   "outputs": [],
   "source": [
    "plot_summarize([df_train, df_valid, df_test], ['accuracy', 'ELBO', 'Label_KL', 'Style_KL', 'Reconst_Loss', 'CE_Loss'], 20, 500)"
   ]
  },
  {
   "cell_type": "code",
   "execution_count": null,
   "metadata": {
    "ExecuteTime": {
     "end_time": "2021-10-18T11:36:03.875639Z",
     "start_time": "2021-10-18T11:36:03.706706Z"
    },
    "scrolled": true
   },
   "outputs": [],
   "source": [
    "viz_images(['exp4', 'omniglot'], 5000, 'train')"
   ]
  },
  {
   "cell_type": "code",
   "execution_count": null,
   "metadata": {},
   "outputs": [],
   "source": [
    "viz_latents('exp7', 13000, 'train')"
   ]
  },
  {
   "cell_type": "markdown",
   "metadata": {},
   "source": [
    "## Experiment-4-eaen: "
   ]
  },
  {
   "cell_type": "code",
   "execution_count": null,
   "metadata": {
    "ExecuteTime": {
     "end_time": "2021-11-15T13:25:19.336140Z",
     "start_time": "2021-11-15T13:25:19.034195Z"
    }
   },
   "outputs": [],
   "source": [
    "df_train = pd.read_csv('./logs/DELPO_omniglot_5-way_5-shot_15-queries/exp4-eaen/train.csv')\n",
    "df_valid = pd.read_csv('./logs/DELPO_omniglot_5-way_5-shot_15-queries/exp4-eaen/valid_all.csv')\n",
    "df_test = pd.read_csv('./logs/DELPO_omniglot_5-way_5-shot_15-queries/exp4-eaen/test_all.csv')"
   ]
  },
  {
   "cell_type": "code",
   "execution_count": null,
   "metadata": {
    "ExecuteTime": {
     "end_time": "2021-11-15T13:25:22.176660Z",
     "start_time": "2021-11-15T13:25:21.449046Z"
    },
    "scrolled": false
   },
   "outputs": [],
   "source": [
    "plot_summarize([df_train, df_valid, df_test], ['accuracy', 'ELBO', 'Label_KL', 'Style_KL', 'Reconst_Loss', 'CE_Loss'], 20, 500)"
   ]
  },
  {
   "cell_type": "code",
   "execution_count": null,
   "metadata": {
    "ExecuteTime": {
     "end_time": "2021-10-18T11:36:03.875639Z",
     "start_time": "2021-10-18T11:36:03.706706Z"
    },
    "scrolled": true
   },
   "outputs": [],
   "source": [
    "viz_images(['exp4', 'omniglot'], 5000, 'train')"
   ]
  },
  {
   "cell_type": "code",
   "execution_count": null,
   "metadata": {},
   "outputs": [],
   "source": [
    "viz_latents('exp7', 13000, 'train')"
   ]
  },
  {
   "cell_type": "markdown",
   "metadata": {},
   "source": [
    "## Experiment-5: "
   ]
  },
  {
   "cell_type": "code",
   "execution_count": null,
   "metadata": {
    "ExecuteTime": {
     "end_time": "2021-11-29T11:36:10.311643Z",
     "start_time": "2021-11-29T11:36:10.028524Z"
    }
   },
   "outputs": [],
   "source": [
    "df_train = pd.read_csv('/media/anuj/New Volume/Win_BKP/TU_Delft/research/implement/learning_to_meta-learn/logs/DELPO_omniglot_5-way_5-shot_15-queries/exp5/train.csv')\n",
    "df_valid = pd.read_csv('/media/anuj/New Volume/Win_BKP/TU_Delft/research/implement/learning_to_meta-learn/logs/DELPO_omniglot_5-way_5-shot_15-queries/exp5/valid_all.csv')\n",
    "df_test = pd.read_csv('/media/anuj/New Volume/Win_BKP/TU_Delft/research/implement/learning_to_meta-learn/logs/DELPO_omniglot_5-way_5-shot_15-queries/exp5/test_all.csv')\n",
    "df_valid = df_valid[~(df_valid['CE_Loss'] == 'model_last.pt')]\n",
    "df_test = df_test[~(df_test['CE_Loss'] == 'model_last.pt')]"
   ]
  },
  {
   "cell_type": "code",
   "execution_count": null,
   "metadata": {
    "ExecuteTime": {
     "end_time": "2021-11-22T13:18:23.630153Z",
     "start_time": "2021-11-22T13:18:22.799082Z"
    }
   },
   "outputs": [],
   "source": [
    "df_train = pd.read_csv('./logs/DELPO_omniglot_5-way_5-shot_15-queries/exp5_old/train.csv')\n",
    "df_train = df_train.groupby(np.arange(len(df_train)) // 20).mean()\n",
    "\n",
    "df_train1 = pd.read_csv('./logs/DELPO_omniglot_5-way_5-shot_15-queries/train5.csv')\n",
    "df_train1 = df_train1.groupby(np.arange(len(df_train1)) // 20).mean()\n",
    "\n",
    "df_train = pd.concat([df_train, df_train1], axis=1)\n",
    "df_train = df_train['accuracy']\n",
    "df_train.columns = ['acc1', 'acc2']\n",
    "\n",
    "fig = px.line(df_train)\n",
    "fig.show()"
   ]
  },
  {
   "cell_type": "markdown",
   "metadata": {},
   "source": [
    "**Seems good enough -- Test now!**"
   ]
  },
  {
   "cell_type": "code",
   "execution_count": null,
   "metadata": {
    "ExecuteTime": {
     "end_time": "2021-11-29T11:36:12.675950Z",
     "start_time": "2021-11-29T11:36:11.809848Z"
    },
    "scrolled": false
   },
   "outputs": [],
   "source": [
    "plot_summarize([df_train, df_valid, df_test], ['accuracy', 'ELBO', 'Label_KL', 'Style_KL', 'Reconst_Loss', 'CE_Loss'], 20, 500)"
   ]
  },
  {
   "cell_type": "code",
   "execution_count": null,
   "metadata": {},
   "outputs": [],
   "source": []
  },
  {
   "cell_type": "markdown",
   "metadata": {},
   "source": [
    "# Omniglot: 5-way, 1-shot, 15-queries"
   ]
  },
  {
   "cell_type": "markdown",
   "metadata": {},
   "source": [
    "## Experiment 1 "
   ]
  },
  {
   "cell_type": "code",
   "execution_count": null,
   "metadata": {
    "ExecuteTime": {
     "end_time": "2021-11-16T22:21:23.115151Z",
     "start_time": "2021-11-16T22:21:23.064797Z"
    }
   },
   "outputs": [],
   "source": [
    "df_test = pd.read_csv('./logs/DELPO_omniglot_5-way_1-shot_15-queries/exp1/test_all.csv')\n",
    "df_test1 = pd.read_csv('./logs/DELPO_omniglot_5-way_1-shot_15-queries/exp1/exp1_5500+/test.csv')"
   ]
  },
  {
   "cell_type": "code",
   "execution_count": null,
   "metadata": {
    "ExecuteTime": {
     "end_time": "2021-11-16T22:23:07.401531Z",
     "start_time": "2021-11-16T22:23:07.385568Z"
    }
   },
   "outputs": [],
   "source": [
    "df_test[df_test['CE_Loss'] == 'model_5500.pt']"
   ]
  },
  {
   "cell_type": "code",
   "execution_count": null,
   "metadata": {
    "ExecuteTime": {
     "end_time": "2021-11-16T22:25:20.885267Z",
     "start_time": "2021-11-16T22:25:20.844517Z"
    }
   },
   "outputs": [],
   "source": [
    "df_test1[df_test1['CE_Loss'] == 'model_8500.pt'].describe()"
   ]
  },
  {
   "cell_type": "code",
   "execution_count": null,
   "metadata": {
    "ExecuteTime": {
     "end_time": "2021-11-16T22:23:47.507075Z",
     "start_time": "2021-11-16T22:23:47.502742Z"
    }
   },
   "outputs": [],
   "source": [
    "df_test1.CE_Loss.unique()"
   ]
  },
  {
   "cell_type": "code",
   "execution_count": null,
   "metadata": {
    "ExecuteTime": {
     "end_time": "2021-11-16T20:10:28.962277Z",
     "start_time": "2021-11-16T20:10:28.579030Z"
    }
   },
   "outputs": [],
   "source": [
    "df_train = pd.read_csv('./logs/DELPO_omniglot_5-way_1-shot_15-queries/exp1/train.csv')\n",
    "df_valid = pd.read_csv('./logs/DELPO_omniglot_5-way_1-shot_15-queries/exp1/valid_all.csv')\n",
    "df_test = pd.read_csv('./logs/DELPO_omniglot_5-way_1-shot_15-queries/exp1/test_all.csv')\n",
    "df_train1 = pd.read_csv('./logs/DELPO_omniglot_5-way_1-shot_15-queries/exp1/train1.csv')\n",
    "df_train = pd.concat([df_train, df_train1])"
   ]
  },
  {
   "cell_type": "code",
   "execution_count": null,
   "metadata": {
    "ExecuteTime": {
     "end_time": "2021-11-16T20:10:30.874142Z",
     "start_time": "2021-11-16T20:10:30.116619Z"
    },
    "scrolled": false
   },
   "outputs": [],
   "source": [
    "plot_summarize([df_train, df_valid, df_test], ['accuracy', 'ELBO', 'Label_KL', 'Style_KL', 'Reconst_Loss', 'CE_Loss'], 20, 500)"
   ]
  },
  {
   "cell_type": "markdown",
   "metadata": {},
   "source": [
    "## Experiment 2 "
   ]
  },
  {
   "cell_type": "code",
   "execution_count": null,
   "metadata": {
    "ExecuteTime": {
     "end_time": "2021-11-21T11:40:44.853472Z",
     "start_time": "2021-11-21T11:40:44.555989Z"
    }
   },
   "outputs": [],
   "source": [
    "df_train = pd.read_csv('./logs/DELPO_omniglot_5-way_1-shot_15-queries/exp2/train.csv')\n",
    "df_valid = pd.read_csv('./logs/DELPO_omniglot_5-way_1-shot_15-queries/exp2/valid_all.csv')\n",
    "df_test = pd.read_csv('./logs/DELPO_omniglot_5-way_1-shot_15-queries/exp2/test_all.csv')\n",
    "df_valid = df_valid[~(df_valid['CE_Loss'] == 'model_last.pt')]\n",
    "df_test = df_test[~(df_test['CE_Loss'] == 'model_last.pt')]"
   ]
  },
  {
   "cell_type": "code",
   "execution_count": null,
   "metadata": {
    "ExecuteTime": {
     "end_time": "2021-11-21T11:40:46.166718Z",
     "start_time": "2021-11-21T11:40:45.503414Z"
    },
    "scrolled": false
   },
   "outputs": [],
   "source": [
    "plot_summarize([df_train, df_valid, df_test], ['accuracy', 'ELBO', 'Label_KL', 'Style_KL', 'Reconst_Loss', 'CE_Loss'], 20, 500)"
   ]
  },
  {
   "cell_type": "markdown",
   "metadata": {},
   "source": [
    "## Experiment 3 "
   ]
  },
  {
   "cell_type": "code",
   "execution_count": null,
   "metadata": {
    "ExecuteTime": {
     "end_time": "2021-11-29T11:36:33.910263Z",
     "start_time": "2021-11-29T11:36:32.589054Z"
    }
   },
   "outputs": [],
   "source": [
    "df_train = pd.read_csv('/media/anuj/New Volume/Win_BKP/TU_Delft/research/implement/learning_to_meta-learn/logs/DELPO_omniglot_5-way_1-shot_15-queries/exp3/train.csv')\n",
    "df_valid = pd.read_csv('/media/anuj/New Volume/Win_BKP/TU_Delft/research/implement/learning_to_meta-learn/logs/DELPO_omniglot_5-way_1-shot_15-queries/exp3/valid_all.csv')\n",
    "df_test = pd.read_csv('/media/anuj/New Volume/Win_BKP/TU_Delft/research/implement/learning_to_meta-learn/logs/DELPO_omniglot_5-way_1-shot_15-queries/exp3/test_all.csv')\n",
    "df_valid = df_valid[~(df_valid['CE_Loss'] == 'model_last.pt')]\n",
    "df_test = df_test[~(df_test['CE_Loss'] == 'model_last.pt')]"
   ]
  },
  {
   "cell_type": "code",
   "execution_count": null,
   "metadata": {
    "ExecuteTime": {
     "end_time": "2021-11-22T13:16:33.548942Z",
     "start_time": "2021-11-22T13:16:32.763073Z"
    }
   },
   "outputs": [],
   "source": [
    "df_train = pd.read_csv('./logs/DELPO_omniglot_5-way_1-shot_15-queries/exp3_old/train.csv')\n",
    "df_train = df_train.groupby(np.arange(len(df_train)) // 20).mean()\n",
    "\n",
    "df_train1 = pd.read_csv('./logs/DELPO_omniglot_5-way_1-shot_15-queries/train3.csv')\n",
    "df_train1 = df_train1.groupby(np.arange(len(df_train1)) // 20).mean()\n",
    "\n",
    "df_train = pd.concat([df_train, df_train1], axis=1)\n",
    "df_train = df_train['accuracy']\n",
    "df_train.columns = ['acc1', 'acc2']\n",
    "\n",
    "fig = px.line(df_train)\n",
    "fig.show()"
   ]
  },
  {
   "cell_type": "markdown",
   "metadata": {},
   "source": [
    "**Seems close enough -- Test now!**"
   ]
  },
  {
   "cell_type": "code",
   "execution_count": null,
   "metadata": {
    "ExecuteTime": {
     "end_time": "2021-11-29T11:36:36.310293Z",
     "start_time": "2021-11-29T11:36:35.383890Z"
    },
    "scrolled": false
   },
   "outputs": [],
   "source": [
    "plot_summarize([df_train, df_valid, df_test], ['accuracy', 'ELBO', 'Label_KL', 'Style_KL', 'Reconst_Loss', 'CE_Loss'], 20, 500)"
   ]
  },
  {
   "cell_type": "markdown",
   "metadata": {},
   "source": [
    "## Experiment 4 "
   ]
  },
  {
   "cell_type": "code",
   "execution_count": null,
   "metadata": {
    "ExecuteTime": {
     "end_time": "2021-11-20T15:14:16.141514Z",
     "start_time": "2021-11-20T15:14:15.778739Z"
    }
   },
   "outputs": [],
   "source": [
    "df_train = pd.read_csv('./logs/DELPO_omniglot_5-way_1-shot_15-queries/exp4/train.csv')\n",
    "df_valid = pd.read_csv('./logs/DELPO_omniglot_5-way_1-shot_15-queries/exp4/valid_all.csv')\n",
    "df_test = pd.read_csv('./logs/DELPO_omniglot_5-way_1-shot_15-queries/exp4/test_all.csv')\n",
    "df_valid = df_valid[~(df_valid['CE_Loss'] == 'model_last.pt')]\n",
    "df_test = df_test[~(df_test['CE_Loss'] == 'model_last.pt')]"
   ]
  },
  {
   "cell_type": "code",
   "execution_count": null,
   "metadata": {
    "ExecuteTime": {
     "end_time": "2021-11-20T15:14:17.438077Z",
     "start_time": "2021-11-20T15:14:16.808416Z"
    },
    "scrolled": false
   },
   "outputs": [],
   "source": [
    "plot_summarize([df_train, df_valid, df_test], ['accuracy', 'ELBO', 'Label_KL', 'Style_KL', 'Reconst_Loss', 'CE_Loss'], 20, 500)"
   ]
  },
  {
   "cell_type": "markdown",
   "metadata": {},
   "source": [
    "## Experiment 5 "
   ]
  },
  {
   "cell_type": "code",
   "execution_count": null,
   "metadata": {
    "ExecuteTime": {
     "end_time": "2021-11-20T15:10:28.340235Z",
     "start_time": "2021-11-20T15:10:27.689985Z"
    }
   },
   "outputs": [],
   "source": [
    "df_train = pd.read_csv('./logs/DELPO_omniglot_5-way_1-shot_15-queries/exp5/train.csv')\n",
    "df_valid = pd.read_csv('./logs/DELPO_omniglot_5-way_1-shot_15-queries/exp5/valid_all.csv')\n",
    "df_test = pd.read_csv('./logs/DELPO_omniglot_5-way_1-shot_15-queries/exp5/test_all.csv')\n",
    "df_train1 = pd.read_csv('./logs/DELPO_omniglot_5-way_1-shot_15-queries/exp5/exp5/train.csv')\n",
    "\n",
    "df_train = pd.concat([df_train, df_train1])\n",
    "df_valid = df_valid[~(df_valid['CE_Loss'] == 'model_last.pt')]\n",
    "df_test = df_test[~(df_test['CE_Loss'] == 'model_last.pt')]"
   ]
  },
  {
   "cell_type": "code",
   "execution_count": null,
   "metadata": {
    "ExecuteTime": {
     "end_time": "2021-11-20T15:10:32.845899Z",
     "start_time": "2021-11-20T15:10:30.995363Z"
    },
    "scrolled": false
   },
   "outputs": [],
   "source": [
    "plot_summarize([df_train, df_valid, df_test], ['accuracy', 'ELBO', 'Label_KL', 'Style_KL', 'Reconst_Loss', 'CE_Loss'], 20, 500)"
   ]
  },
  {
   "cell_type": "markdown",
   "metadata": {},
   "source": [
    "- **Resume run for exp5 for another 20k epochs/ retrain till 35k epochs = = Nah, doesn't improve significantly** <br>\n",
    "- **Run with ce_wt = 40 for 20k epochs**"
   ]
  },
  {
   "cell_type": "markdown",
   "metadata": {
    "ExecuteTime": {
     "end_time": "2021-11-16T22:29:58.631076Z",
     "start_time": "2021-11-16T22:29:58.628022Z"
    }
   },
   "source": [
    "# tiered: 5-way, 1-shot, 15-queries: EAEN"
   ]
  },
  {
   "cell_type": "markdown",
   "metadata": {},
   "source": [
    "## EAEN "
   ]
  },
  {
   "cell_type": "code",
   "execution_count": null,
   "metadata": {
    "ExecuteTime": {
     "end_time": "2021-11-29T11:37:12.629316Z",
     "start_time": "2021-11-29T11:37:08.556187Z"
    }
   },
   "outputs": [],
   "source": [
    "df_train = pd.read_csv('/media/anuj/New Volume/Win_BKP/TU_Delft/research/implement/learning_to_meta-learn/logs/DELPO_tiered_5-way_1-shot_15-queries/exp3-eaen/train.csv')\n",
    "df_valid = pd.read_csv('/media/anuj/New Volume/Win_BKP/TU_Delft/research/implement/learning_to_meta-learn/logs/DELPO_tiered_5-way_1-shot_15-queries/exp3-eaen/valid_all.csv')\n",
    "df_test = pd.read_csv('/media/anuj/New Volume/Win_BKP/TU_Delft/research/implement/learning_to_meta-learn/logs/DELPO_tiered_5-way_1-shot_15-queries/exp3-eaen/test_all.csv')\n",
    "df_test = df_test[~(df_test['CE_Loss'] == 'model_last.pt')]\n",
    "df_valid = df_valid[~(df_valid['CE_Loss'] == 'model_last.pt')]"
   ]
  },
  {
   "cell_type": "code",
   "execution_count": null,
   "metadata": {
    "ExecuteTime": {
     "end_time": "2021-11-29T11:37:16.109895Z",
     "start_time": "2021-11-29T11:37:13.481111Z"
    },
    "scrolled": false
   },
   "outputs": [],
   "source": [
    "plot_summarize([df_train, df_valid, df_test], ['accuracy', 'ELBO', 'Label_KL', 'Style_KL', 'Reconst_Loss', 'CE_Loss'], 20, 500)"
   ]
  },
  {
   "cell_type": "code",
   "execution_count": null,
   "metadata": {},
   "outputs": [],
   "source": []
  },
  {
   "cell_type": "code",
   "execution_count": null,
   "metadata": {
    "ExecuteTime": {
     "end_time": "2021-11-21T17:13:58.262572Z",
     "start_time": "2021-11-21T17:13:57.068010Z"
    }
   },
   "outputs": [],
   "source": [
    "df_train1 = pd.read_csv('./logs/DELPO_tiered_5-way_1-shot_15-queries/exp1-eaen/train.csv')\n",
    "df_valid = pd.read_csv('./logs/DELPO_tiered_5-way_1-shot_15-queries/exp1-eaen/valid.csv')\n",
    "df_test = pd.read_csv('./logs/DELPO_tiered_5-way_1-shot_15-queries/exp1-eaen/test.csv')\n",
    "\n",
    "df_train1 = df_train1.groupby(np.arange(len(df_train1)) // 20).mean()\n",
    "\n",
    "# fig = px.line(df_train, x=df_train.index, y='accuracy')\n",
    "# fig.show()\n",
    "\n",
    "df_train2 = pd.read_csv('./logs/DELPO_tiered_5-way_1-shot_15-queries/exp2-eaen/train.csv')\n",
    "df_train2 = df_train2.groupby(np.arange(len(df_train2)) // 20).mean()\n",
    "\n",
    "df_train3 = pd.read_csv('./logs/DELPO_tiered_5-way_1-shot_15-queries/exp3-eaen/train.csv')\n",
    "df_train3 = df_train3.groupby(np.arange(len(df_train3)) // 20).mean()\n",
    "\n",
    "df_train = pd.concat([df_train1, df_train2, df_train3], axis=1)\n",
    "df_train = df_train['accuracy']\n",
    "df_train.columns = ['acc1', 'acc2', 'acc3']\n",
    "#df_train.dropna(inplace=True)"
   ]
  },
  {
   "cell_type": "code",
   "execution_count": null,
   "metadata": {
    "ExecuteTime": {
     "end_time": "2021-11-21T17:14:07.020282Z",
     "start_time": "2021-11-21T17:14:06.198524Z"
    }
   },
   "outputs": [],
   "source": [
    "fig = px.line(df_train)\n",
    "fig.show()"
   ]
  },
  {
   "cell_type": "code",
   "execution_count": null,
   "metadata": {
    "ExecuteTime": {
     "end_time": "2021-11-27T11:35:12.016579Z",
     "start_time": "2021-11-27T11:35:08.620518Z"
    }
   },
   "outputs": [],
   "source": [
    "df_train1 = pd.read_csv('./logs/DELPO_tiered_5-way_1-shot_15-queries/train1.csv')\n",
    "df_train1 = df_train1.groupby(np.arange(len(df_train1)) // 20).mean()\n",
    "# df_train2 = pd.read_csv('./logs/DELPO_tiered_5-way_1-shot_15-queries/train2.csv')\n",
    "# df_train2 = df_train2.groupby(np.arange(len(df_train2)) // 20).mean()\n",
    "df_train3 = pd.read_csv('./logs/DELPO_tiered_5-way_1-shot_15-queries/train3.csv')\n",
    "df_train3 = df_train3.groupby(np.arange(len(df_train3)) // 20).mean()\n",
    "# df_train4 = pd.read_csv('./logs/DELPO_tiered_5-way_1-shot_15-queries/train4.csv')\n",
    "# df_train4 = df_train4.groupby(np.arange(len(df_train4)) // 20).mean()\n",
    "df_train5 = pd.read_csv('./logs/DELPO_tiered_5-way_1-shot_15-queries/stash/train5.csv')\n",
    "df_train5 = df_train5.groupby(np.arange(len(df_train5)) // 20).mean()\n",
    "df_train6 = pd.read_csv('./logs/DELPO_tiered_5-way_1-shot_15-queries/train6.csv')\n",
    "df_train6 = df_train6.groupby(np.arange(len(df_train6)) // 20).mean()\n",
    "\n",
    "df_train = pd.concat([df_train1, df_train3, df_train5, df_train6], axis=1)\n",
    "df_train = df_train['accuracy']\n",
    "df_train.columns = ['acc1', 'acc3', 'acc5', 'acc6']\n",
    "\n",
    "fig = px.line(df_train)\n",
    "fig.show()"
   ]
  },
  {
   "cell_type": "markdown",
   "metadata": {
    "ExecuteTime": {
     "end_time": "2021-11-21T17:13:14.649037Z",
     "start_time": "2021-11-21T17:13:13.948212Z"
    }
   },
   "source": [
    "**Seems good, let run, monitor again at ~20k-epochs & run exp6-exp11t-eaen.sbatch (only lr inc works, not ce_wt increase) !**"
   ]
  },
  {
   "cell_type": "markdown",
   "metadata": {},
   "source": [
    "**Test exp1,3. Start thinking about how to improve!**"
   ]
  },
  {
   "cell_type": "markdown",
   "metadata": {},
   "source": [
    "# tiered: 5-way, 5-shot, 10-queries"
   ]
  },
  {
   "cell_type": "markdown",
   "metadata": {},
   "source": [
    "## EAEN: "
   ]
  },
  {
   "cell_type": "code",
   "execution_count": null,
   "metadata": {
    "ExecuteTime": {
     "end_time": "2021-11-29T11:38:24.064465Z",
     "start_time": "2021-11-29T11:38:21.306015Z"
    }
   },
   "outputs": [],
   "source": [
    "df_train = pd.read_csv('/media/anuj/New Volume/Win_BKP/TU_Delft/research/implement/learning_to_meta-learn/logs/DELPO_tiered_5-way_5-shot_10-queries/exp5-eaen/train.csv')\n",
    "df_valid = pd.read_csv('/media/anuj/New Volume/Win_BKP/TU_Delft/research/implement/learning_to_meta-learn/logs/DELPO_tiered_5-way_5-shot_10-queries/exp5-eaen/valid_all.csv')\n",
    "df_test = pd.read_csv('/media/anuj/New Volume/Win_BKP/TU_Delft/research/implement/learning_to_meta-learn/logs/DELPO_tiered_5-way_5-shot_10-queries/exp5-eaen/test_all.csv')\n",
    "df_test = df_test[~(df_test['CE_Loss'] == 'model_last.pt')]\n",
    "df_valid = df_valid[~(df_valid['CE_Loss'] == 'model_last.pt')]"
   ]
  },
  {
   "cell_type": "code",
   "execution_count": null,
   "metadata": {
    "ExecuteTime": {
     "end_time": "2021-11-29T11:38:26.647019Z",
     "start_time": "2021-11-29T11:38:24.862813Z"
    },
    "scrolled": false
   },
   "outputs": [],
   "source": [
    "plot_summarize([df_train, df_valid, df_test], ['accuracy', 'ELBO', 'Label_KL', 'Style_KL', 'Reconst_Loss', 'CE_Loss'], 20, 500)"
   ]
  },
  {
   "cell_type": "code",
   "execution_count": null,
   "metadata": {},
   "outputs": [],
   "source": []
  },
  {
   "cell_type": "code",
   "execution_count": null,
   "metadata": {
    "ExecuteTime": {
     "end_time": "2021-11-20T16:32:09.958910Z",
     "start_time": "2021-11-20T16:32:08.749837Z"
    }
   },
   "outputs": [],
   "source": [
    "df_train1 = pd.read_csv('./logs/DELPO_tiered_5-way_5-shot_10-queries/exp1-eaen/train.csv')\n",
    "df_valid = pd.read_csv('./logs/DELPO_tiered_5-way_5-shot_10-queries/exp1-eaen/valid.csv')\n",
    "df_test = pd.read_csv('./logs/DELPO_tiered_5-way_5-shot_10-queries/exp1-eaen/test.csv')\n",
    "\n",
    "df_train1 = df_train1.groupby(np.arange(len(df_train1)) // 20).mean()\n",
    "\n",
    "# fig = px.line(df_train, x=df_train.index, y='accuracy')\n",
    "# fig.show()\n",
    "\n",
    "df_train2 = pd.read_csv('./logs/DELPO_tiered_5-way_5-shot_10-queries/exp2-eaen/train.csv')\n",
    "df_train2 = df_train2.groupby(np.arange(len(df_train2)) // 20).mean()\n",
    "\n",
    "df_train3 = pd.read_csv('./logs/DELPO_tiered_5-way_5-shot_10-queries/exp3-eaen/train.csv')\n",
    "df_train3 = df_train3.groupby(np.arange(len(df_train3)) // 20).mean()\n",
    "\n",
    "df_train = pd.concat([df_train1, df_train2, df_train3], axis=1)\n",
    "df_train = df_train['accuracy']\n",
    "df_train.columns = ['acc1', 'acc2', 'acc3']\n",
    "#df_train.dropna(inplace=True)\n",
    "\n",
    "fig = px.line(df_train)\n",
    "fig.show()"
   ]
  },
  {
   "cell_type": "markdown",
   "metadata": {
    "ExecuteTime": {
     "end_time": "2021-11-20T16:32:51.218376Z",
     "start_time": "2021-11-20T16:32:51.211995Z"
    }
   },
   "source": [
    "**Try out a few more configs of lr + ce_wt manipulation**"
   ]
  },
  {
   "cell_type": "code",
   "execution_count": null,
   "metadata": {
    "ExecuteTime": {
     "end_time": "2021-11-25T13:32:40.893251Z",
     "start_time": "2021-11-25T13:32:38.072031Z"
    }
   },
   "outputs": [],
   "source": [
    "df_train1 = pd.read_csv('./logs/DELPO_tiered_5-way_5-shot_10-queries/train1.csv')\n",
    "df_train1 = df_train1.groupby(np.arange(len(df_train1)) // 20).mean()\n",
    "# df_train2 = pd.read_csv('./logs/DELPO_tiered_5-way_5-shot_10-queries/train2.csv')\n",
    "# df_train2 = df_train2.groupby(np.arange(len(df_train2)) // 20).mean()\n",
    "# df_train3 = pd.read_csv('./logs/DELPO_tiered_5-way_5-shot_10-queries/train3.csv')\n",
    "# df_train3 = df_train3.groupby(np.arange(len(df_train3)) // 20).mean()\n",
    "df_train4 = pd.read_csv('./logs/DELPO_tiered_5-way_5-shot_10-queries/train4.csv')\n",
    "df_train4 = df_train4.groupby(np.arange(len(df_train4)) // 20).mean()\n",
    "df_train5 = pd.read_csv('./logs/DELPO_tiered_5-way_5-shot_10-queries/train5.csv')\n",
    "df_train5 = df_train5.groupby(np.arange(len(df_train5)) // 20).mean()\n",
    "df_train6 = pd.read_csv('./logs/DELPO_tiered_5-way_5-shot_10-queries/train6.csv')\n",
    "df_train6 = df_train6.groupby(np.arange(len(df_train6)) // 20).mean()\n",
    "\n",
    "df_train = pd.concat([df_train1, df_train4, df_train5, df_train6], axis=1)\n",
    "df_train = df_train['accuracy']\n",
    "df_train.columns = ['acc1', 'acc4', 'acc5', 'acc6']\n",
    "\n",
    "fig = px.line(df_train)\n",
    "fig.show()"
   ]
  },
  {
   "cell_type": "markdown",
   "metadata": {
    "ExecuteTime": {
     "end_time": "2021-11-21T17:28:21.057605Z",
     "start_time": "2021-11-21T17:28:20.716162Z"
    }
   },
   "source": [
    "**Seems good, let run. monitor again at ~20k-epochs. Test exp5!**"
   ]
  },
  {
   "cell_type": "markdown",
   "metadata": {
    "ExecuteTime": {
     "end_time": "2021-11-22T14:10:18.971269Z",
     "start_time": "2021-11-22T14:10:18.964835Z"
    }
   },
   "source": [
    "# tiered: 5-way, 5-shot, 15-queries"
   ]
  },
  {
   "cell_type": "code",
   "execution_count": null,
   "metadata": {
    "ExecuteTime": {
     "end_time": "2021-11-25T13:38:20.549454Z",
     "start_time": "2021-11-25T13:38:17.101150Z"
    }
   },
   "outputs": [],
   "source": [
    "df_train1 = pd.read_csv('./logs/DELPO_tiered_5-way_5-shot_10-queries/train1.csv')\n",
    "df_train1 = df_train1.groupby(np.arange(len(df_train1)) // 20).mean()\n",
    "# df_train2 = pd.read_csv('./logs/DELPO_tiered_5-way_5-shot_10-queries/train2.csv')\n",
    "# df_train2 = df_train2.groupby(np.arange(len(df_train2)) // 20).mean()\n",
    "# df_train3 = pd.read_csv('./logs/DELPO_tiered_5-way_5-shot_10-queries/train3.csv')\n",
    "# df_train3 = df_train3.groupby(np.arange(len(df_train3)) // 20).mean()\n",
    "df_train4 = pd.read_csv('./logs/DELPO_tiered_5-way_5-shot_10-queries/train4.csv')\n",
    "df_train4 = df_train4.groupby(np.arange(len(df_train4)) // 20).mean()\n",
    "df_train51 = pd.read_csv('./logs/DELPO_tiered_5-way_5-shot_10-queries/train5.csv')\n",
    "df_train51 = df_train51.groupby(np.arange(len(df_train51)) // 20).mean()\n",
    "df_train52 = pd.read_csv('./logs/DELPO_tiered_5-way_5-shot_15-queries/train5.csv')\n",
    "df_train52 = df_train52.groupby(np.arange(len(df_train52)) // 20).mean()\n",
    "df_train6 = pd.read_csv('./logs/DELPO_tiered_5-way_5-shot_10-queries/train6.csv')\n",
    "df_train6 = df_train6.groupby(np.arange(len(df_train6)) // 20).mean()\n",
    "\n",
    "df_train = pd.concat([df_train1, df_train4, df_train51, df_train52, df_train6], axis=1)\n",
    "df_train = df_train['accuracy']\n",
    "df_train.columns = ['acc1', 'acc4', 'acc5.1', 'acc5.2', 'acc6']\n",
    "\n",
    "fig = px.line(df_train)\n",
    "fig.show()"
   ]
  },
  {
   "cell_type": "markdown",
   "metadata": {},
   "source": [
    "# tiered: 5-way, 10-shot, 15-queries"
   ]
  },
  {
   "cell_type": "code",
   "execution_count": null,
   "metadata": {
    "ExecuteTime": {
     "end_time": "2021-11-29T11:39:48.709498Z",
     "start_time": "2021-11-29T11:39:46.919310Z"
    }
   },
   "outputs": [],
   "source": [
    "df_train = pd.read_csv('/media/anuj/New Volume/Win_BKP/TU_Delft/research/implement/learning_to_meta-learn/logs/DELPO_tiered_5-way_10-shot_15-queries/exp1-eaen/train.csv')\n",
    "df_valid = pd.read_csv('/media/anuj/New Volume/Win_BKP/TU_Delft/research/implement/learning_to_meta-learn/logs/DELPO_tiered_5-way_10-shot_15-queries/exp1-eaen_firsthalf/valid_all.csv')\n",
    "df_test = pd.read_csv('/media/anuj/New Volume/Win_BKP/TU_Delft/research/implement/learning_to_meta-learn/logs/DELPO_tiered_5-way_10-shot_15-queries/exp1-eaen_firsthalf/test_all.csv')\n",
    "df_test = df_test[~(df_test['CE_Loss'] == 'model_last.pt')]\n",
    "df_valid = df_valid[~(df_valid['CE_Loss'] == 'model_last.pt')]"
   ]
  },
  {
   "cell_type": "code",
   "execution_count": null,
   "metadata": {
    "ExecuteTime": {
     "end_time": "2021-11-29T11:40:00.517286Z",
     "start_time": "2021-11-29T11:39:59.146565Z"
    },
    "scrolled": false
   },
   "outputs": [],
   "source": [
    "plot_summarize([df_train, df_valid, df_test], ['accuracy', 'ELBO', 'Label_KL', 'Style_KL', 'Reconst_Loss', 'CE_Loss'], 20, 500)"
   ]
  },
  {
   "cell_type": "code",
   "execution_count": null,
   "metadata": {},
   "outputs": [],
   "source": []
  },
  {
   "cell_type": "code",
   "execution_count": null,
   "metadata": {
    "ExecuteTime": {
     "end_time": "2021-11-25T14:23:48.815677Z",
     "start_time": "2021-11-25T14:23:48.277448Z"
    }
   },
   "outputs": [],
   "source": [
    "df_train = pd.read_csv('./logs/DELPO_tiered_5-way_10-shot_15-queries/train1.csv')\n",
    "df_train = df_train.groupby(np.arange(len(df_train)) // 20).mean()\n",
    "\n",
    "df_train = df_train['accuracy']\n",
    "df_train.columns = ['acc1']\n",
    "#df_train.dropna(inplace=True)\n",
    "\n",
    "fig = px.line(df_train)\n",
    "fig.show()"
   ]
  },
  {
   "cell_type": "markdown",
   "metadata": {},
   "source": [
    "# Pre-trained ResNet-12 feature extractor "
   ]
  },
  {
   "cell_type": "markdown",
   "metadata": {},
   "source": [
    "## MiniImagenet: 5-way, 1-shot, 15-queries "
   ]
  },
  {
   "cell_type": "code",
   "execution_count": null,
   "metadata": {
    "ExecuteTime": {
     "end_time": "2021-11-27T12:31:47.057808Z",
     "start_time": "2021-11-27T12:31:46.861040Z"
    },
    "scrolled": true
   },
   "outputs": [],
   "source": [
    "df_train = pd.read_csv('./logs/DELPO_miniimagenet_5-way_1-shot_15-queries/exp1pt-eaen/train.csv')\n",
    "df_valid = pd.read_csv('./logs/DELPO_miniimagenet_5-way_1-shot_15-queries/exp1pt-eaen/valid_all.csv')\n",
    "df_test = pd.read_csv('./logs/DELPO_miniimagenet_5-way_1-shot_15-queries/exp1pt-eaen/test_all.csv')\n",
    "df_test = df_test[~(df_test['CE_Loss'] == 'model_last.pt')]\n",
    "df_valid = df_valid[~(df_valid['CE_Loss'] == 'model_last.pt')]"
   ]
  },
  {
   "cell_type": "code",
   "execution_count": null,
   "metadata": {
    "ExecuteTime": {
     "end_time": "2021-11-27T12:31:49.389945Z",
     "start_time": "2021-11-27T12:31:48.049700Z"
    }
   },
   "outputs": [],
   "source": [
    "plot_summarize([df_train, df_valid, df_test], ['accuracy', 'ELBO', 'Label_KL', 'Style_KL', 'Reconst_Loss', 'CE_Loss'], 20, 500)"
   ]
  },
  {
   "cell_type": "code",
   "execution_count": null,
   "metadata": {
    "ExecuteTime": {
     "end_time": "2021-11-26T17:37:37.400036Z",
     "start_time": "2021-11-26T17:37:34.258888Z"
    }
   },
   "outputs": [],
   "source": [
    "df_train3 = pd.read_csv('./logs/DELPO_miniimagenet_5-way_1-shot_15-queries/train1pt.csv')\n",
    "df_train3 = df_train3.groupby(np.arange(len(df_train3)) // 20).mean()\n",
    "\n",
    "df_train1 = pd.read_csv('./logs/DELPO_miniimagenet_5-way_1-shot_15-queries/train1pt-eaen.csv')\n",
    "df_train1 = df_train1.groupby(np.arange(len(df_train1)) // 20).mean()\n",
    "df_train1.dropna(inplace=True)\n",
    "\n",
    "df_train2 = pd.read_csv('./logs/DELPO_miniimagenet_5-way_1-shot_15-queries/train1.csv')\n",
    "df_train2 = df_train2.groupby(np.arange(len(df_train2)) // 20).mean()\n",
    "\n",
    "df_train = pd.concat([df_train3, df_train1, df_train2], axis=1)"
   ]
  },
  {
   "cell_type": "code",
   "execution_count": null,
   "metadata": {
    "ExecuteTime": {
     "end_time": "2021-11-26T17:37:42.292221Z",
     "start_time": "2021-11-26T17:37:40.541332Z"
    }
   },
   "outputs": [],
   "source": [
    "df_train = df_train['accuracy']\n",
    "df_train.columns = ['acc3', 'acc1', 'acc2']\n",
    "#df_train.dropna(inplace=True)\n",
    "\n",
    "fig = px.line(df_train)\n",
    "fig.show()"
   ]
  },
  {
   "cell_type": "markdown",
   "metadata": {},
   "source": [
    "**Kill jobs, test both experiments**"
   ]
  },
  {
   "cell_type": "markdown",
   "metadata": {},
   "source": [
    "## MiniImagenet: 5-way, 5-shot, 15-queries "
   ]
  },
  {
   "cell_type": "code",
   "execution_count": null,
   "metadata": {
    "ExecuteTime": {
     "end_time": "2021-11-26T17:39:53.209553Z",
     "start_time": "2021-11-26T17:39:51.692283Z"
    }
   },
   "outputs": [],
   "source": [
    "df_train1 = pd.read_csv('./logs/DELPO_miniimagenet_5-way_5-shot_15-queries/train1pt.csv')\n",
    "df_train1 = df_train1.groupby(np.arange(len(df_train1)) // 20).mean()\n",
    "\n",
    "# df_train1 = pd.read_csv('./logs/DELPO_miniimagenet_5-way_5-shot_15-queries/train1pt-eaen.csv')\n",
    "# df_train1 = df_train1.groupby(np.arange(len(df_train1)) // 20).mean()\n",
    "# df_train1.dropna(inplace=True)\n",
    "\n",
    "df_train2 = pd.read_csv('./logs/DELPO_miniimagenet_5-way_1-shot_15-queries/train1.csv')\n",
    "df_train2 = df_train2.groupby(np.arange(len(df_train2)) // 20).mean()\n",
    "\n",
    "df_train = pd.concat([df_train1, df_train2], axis=1)"
   ]
  },
  {
   "cell_type": "code",
   "execution_count": null,
   "metadata": {
    "ExecuteTime": {
     "end_time": "2021-11-26T17:39:55.188419Z",
     "start_time": "2021-11-26T17:39:54.128157Z"
    }
   },
   "outputs": [],
   "source": [
    "df_train = df_train['accuracy']\n",
    "df_train.columns = ['acc1', 'acc2']\n",
    "#df_train.dropna(inplace=True)\n",
    "\n",
    "fig = px.line(df_train)\n",
    "fig.show()"
   ]
  },
  {
   "cell_type": "markdown",
   "metadata": {},
   "source": [
    "**Kill job, test the experiment**"
   ]
  }
 ],
 "metadata": {
  "interpreter": {
   "hash": "7e3af266dcb7df8b026f0780dbb396b062ee5ca2767a18f50e60e26ee6084121"
  },
  "kernelspec": {
   "display_name": "Python 3 (ipykernel)",
   "language": "python",
   "name": "python3"
  },
  "language_info": {
   "codemirror_mode": {
    "name": "ipython",
    "version": 3
   },
   "file_extension": ".py",
   "mimetype": "text/x-python",
   "name": "python",
   "nbconvert_exporter": "python",
   "pygments_lexer": "ipython3",
   "version": "3.8.11"
  },
  "toc": {
   "base_numbering": 1,
   "nav_menu": {},
   "number_sections": true,
   "sideBar": true,
   "skip_h1_title": false,
   "title_cell": "Table of Contents",
   "title_sidebar": "Contents",
   "toc_cell": false,
   "toc_position": {},
   "toc_section_display": true,
   "toc_window_display": false
  }
 },
 "nbformat": 4,
 "nbformat_minor": 2
}
